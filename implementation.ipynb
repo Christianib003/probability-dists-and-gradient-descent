{
 "cells": [
  {
   "cell_type": "markdown",
   "metadata": {},
   "source": [
    "# Probability Distributions and Gradient Descent\n",
    "## Part 1: Probability Distributions\n",
    "### Example\n",
    "A study conducted on 1000 patients shows that the average time for a patient to develop septic shock after a particular surgery is 12 hours.\n",
    "What is the probability a patient will go into septic shock:\n",
    "\n",
    "    a. Within 3 hours after surgery?\n",
    "    b. 6 hours after surgery?"
   ]
  }
 ],
 "metadata": {
  "language_info": {
   "name": "python"
  }
 },
 "nbformat": 4,
 "nbformat_minor": 2
}
